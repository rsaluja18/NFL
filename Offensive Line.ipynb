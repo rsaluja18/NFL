{
 "cells": [
  {
   "cell_type": "code",
   "execution_count": 2,
   "metadata": {},
   "outputs": [],
   "source": [
    "import pandas as pd\n",
    "import math as m\n",
    "import numpy as np\n",
    "import scipy as sp\n",
    "import matplotlib as plt\n",
    "import matplotlib.pyplot as plt\n",
    "import seaborn as sns \n",
    "import statsmodels.api as sm\n",
    "import statsmodels.formula.api as smf\n",
    "from sklearn.linear_model import LinearRegression\n",
    "from sklearn import tree\n",
    "from sklearn.datasets import load_iris\n",
    "import random as rnd\n",
    "%matplotlib inline\n",
    "from sklearn.linear_model import LogisticRegression\n",
    "from sklearn.svm import SVC, LinearSVC\n",
    "from sklearn.ensemble import RandomForestClassifier\n",
    "from sklearn.neighbors import KNeighborsClassifier\n",
    "from sklearn.naive_bayes import GaussianNB\n",
    "from sklearn.linear_model import Perceptron\n",
    "from sklearn.linear_model import SGDClassifier\n",
    "from sklearn.tree import DecisionTreeClassifier"
   ]
  },
  {
   "cell_type": "code",
   "execution_count": 3,
   "metadata": {},
   "outputs": [
    {
     "data": {
      "text/html": [
       "<div>\n",
       "<style scoped>\n",
       "    .dataframe tbody tr th:only-of-type {\n",
       "        vertical-align: middle;\n",
       "    }\n",
       "\n",
       "    .dataframe tbody tr th {\n",
       "        vertical-align: top;\n",
       "    }\n",
       "\n",
       "    .dataframe thead th {\n",
       "        text-align: right;\n",
       "    }\n",
       "</style>\n",
       "<table border=\"1\" class=\"dataframe\">\n",
       "  <thead>\n",
       "    <tr style=\"text-align: right;\">\n",
       "      <th></th>\n",
       "      <th>Height</th>\n",
       "      <th>Weight</th>\n",
       "      <th>BMI</th>\n",
       "      <th>Arm Length</th>\n",
       "      <th>40 TIme</th>\n",
       "      <th>Bench Press</th>\n",
       "      <th>3 Cone Time</th>\n",
       "      <th>20 Yard Shuttle Time</th>\n",
       "      <th>Result</th>\n",
       "    </tr>\n",
       "  </thead>\n",
       "  <tbody>\n",
       "    <tr>\n",
       "      <th>0</th>\n",
       "      <td>77</td>\n",
       "      <td>315</td>\n",
       "      <td>39</td>\n",
       "      <td>34.25</td>\n",
       "      <td>4.81</td>\n",
       "      <td>23</td>\n",
       "      <td>7.64</td>\n",
       "      <td>4.63</td>\n",
       "      <td>97</td>\n",
       "    </tr>\n",
       "    <tr>\n",
       "      <th>1</th>\n",
       "      <td>75</td>\n",
       "      <td>307</td>\n",
       "      <td>38</td>\n",
       "      <td>32.50</td>\n",
       "      <td>5.15</td>\n",
       "      <td>0</td>\n",
       "      <td>0.00</td>\n",
       "      <td>4.58</td>\n",
       "      <td>98</td>\n",
       "    </tr>\n",
       "    <tr>\n",
       "      <th>2</th>\n",
       "      <td>80</td>\n",
       "      <td>319</td>\n",
       "      <td>36</td>\n",
       "      <td>35.50</td>\n",
       "      <td>4.96</td>\n",
       "      <td>21</td>\n",
       "      <td>7.44</td>\n",
       "      <td>4.34</td>\n",
       "      <td>90</td>\n",
       "    </tr>\n",
       "    <tr>\n",
       "      <th>3</th>\n",
       "      <td>77</td>\n",
       "      <td>307</td>\n",
       "      <td>37</td>\n",
       "      <td>36.50</td>\n",
       "      <td>5.08</td>\n",
       "      <td>29</td>\n",
       "      <td>0.00</td>\n",
       "      <td>0.00</td>\n",
       "      <td>96</td>\n",
       "    </tr>\n",
       "    <tr>\n",
       "      <th>4</th>\n",
       "      <td>76</td>\n",
       "      <td>299</td>\n",
       "      <td>37</td>\n",
       "      <td>34.00</td>\n",
       "      <td>5.18</td>\n",
       "      <td>28</td>\n",
       "      <td>7.70</td>\n",
       "      <td>4.74</td>\n",
       "      <td>94</td>\n",
       "    </tr>\n",
       "  </tbody>\n",
       "</table>\n",
       "</div>"
      ],
      "text/plain": [
       "   Height  Weight  BMI  Arm Length  40 TIme  Bench Press  3 Cone Time  \\\n",
       "0      77     315   39       34.25     4.81           23         7.64   \n",
       "1      75     307   38       32.50     5.15            0         0.00   \n",
       "2      80     319   36       35.50     4.96           21         7.44   \n",
       "3      77     307   37       36.50     5.08           29         0.00   \n",
       "4      76     299   37       34.00     5.18           28         7.70   \n",
       "\n",
       "   20 Yard Shuttle Time  Result  \n",
       "0                  4.63      97  \n",
       "1                  4.58      98  \n",
       "2                  4.34      90  \n",
       "3                  0.00      96  \n",
       "4                  4.74      94  "
      ]
     },
     "execution_count": 3,
     "metadata": {},
     "output_type": "execute_result"
    }
   ],
   "source": [
    "train = pd.read_excel('Draft Offensive Line Training Data.xlsx', encoding = \"iso-8859-1\")\n",
    "test = pd.read_excel('Draft Offensive Line Testing Data.xlsx', encoding = \"iso-8859-1\")\n",
    "train.head()"
   ]
  },
  {
   "cell_type": "code",
   "execution_count": 4,
   "metadata": {},
   "outputs": [],
   "source": [
    "#X_train = train.drop(\"Result\", axis=1)\n",
    "#Y_train = train[\"Result\"]\n",
    "#X_train.shape, Y_train.shape, test.shape\n",
    "\n",
    "y = train[\"Result\"]\n",
    "features = [\"Height\", \"Weight\", \"BMI\", \"Arm Length\", \"40 TIme\", \"Bench Press\", \"3 Cone Time\", \"20 Yard Shuttle Time\"]\n",
    "X = pd.get_dummies(train[features])\n",
    "X_test = pd.get_dummies(test[features])"
   ]
  },
  {
   "cell_type": "code",
   "execution_count": 23,
   "metadata": {},
   "outputs": [
    {
     "name": "stdout",
     "output_type": "stream",
     "text": [
      "[95 96 97 97 96 96 94 98]\n"
     ]
    }
   ],
   "source": [
    "random_forest = RandomForestClassifier(n_estimators=100)\n",
    "\n",
    "random_forest.fit(X, y)\n",
    "\n",
    "Y_pred = random_forest.predict(X_test)\n",
    "print(Y_pred)"
   ]
  }
 ],
 "metadata": {
  "kernelspec": {
   "display_name": "Python 3",
   "language": "python",
   "name": "python3"
  },
  "language_info": {
   "codemirror_mode": {
    "name": "ipython",
    "version": 3
   },
   "file_extension": ".py",
   "mimetype": "text/x-python",
   "name": "python",
   "nbconvert_exporter": "python",
   "pygments_lexer": "ipython3",
   "version": "3.7.3"
  }
 },
 "nbformat": 4,
 "nbformat_minor": 2
}
