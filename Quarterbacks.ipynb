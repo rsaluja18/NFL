{
 "cells": [
  {
   "cell_type": "code",
   "execution_count": 1,
   "metadata": {},
   "outputs": [],
   "source": [
    "import pandas as pd\n",
    "import math as m\n",
    "import numpy as np\n",
    "import scipy as sp\n",
    "import matplotlib as plt\n",
    "import matplotlib.pyplot as plt\n",
    "import seaborn as sns \n",
    "import statsmodels.api as sm\n",
    "import statsmodels.formula.api as smf\n",
    "from sklearn.linear_model import LinearRegression\n",
    "from sklearn import tree\n",
    "from sklearn.datasets import load_iris\n",
    "import random as rnd\n",
    "%matplotlib inline\n",
    "from sklearn.linear_model import LogisticRegression\n",
    "from sklearn.svm import SVC, LinearSVC\n",
    "from sklearn.ensemble import RandomForestClassifier\n",
    "from sklearn.neighbors import KNeighborsClassifier\n",
    "from sklearn.naive_bayes import GaussianNB\n",
    "from sklearn.linear_model import Perceptron\n",
    "from sklearn.linear_model import SGDClassifier\n",
    "from sklearn.tree import DecisionTreeClassifier"
   ]
  },
  {
   "cell_type": "code",
   "execution_count": 2,
   "metadata": {},
   "outputs": [
    {
     "data": {
      "text/html": [
       "<div>\n",
       "<style scoped>\n",
       "    .dataframe tbody tr th:only-of-type {\n",
       "        vertical-align: middle;\n",
       "    }\n",
       "\n",
       "    .dataframe tbody tr th {\n",
       "        vertical-align: top;\n",
       "    }\n",
       "\n",
       "    .dataframe thead th {\n",
       "        text-align: right;\n",
       "    }\n",
       "</style>\n",
       "<table border=\"1\" class=\"dataframe\">\n",
       "  <thead>\n",
       "    <tr style=\"text-align: right;\">\n",
       "      <th></th>\n",
       "      <th>Average Yards</th>\n",
       "      <th>Average TDs</th>\n",
       "      <th>Average INTs</th>\n",
       "      <th>Completion %</th>\n",
       "      <th>Passer Rating</th>\n",
       "      <th>Yards per Attempt</th>\n",
       "      <th>40 Time</th>\n",
       "      <th>Average Rush Yards</th>\n",
       "      <th>Average Rush TDs</th>\n",
       "      <th>Result</th>\n",
       "    </tr>\n",
       "  </thead>\n",
       "  <tbody>\n",
       "    <tr>\n",
       "      <th>0</th>\n",
       "      <td>3750.666667</td>\n",
       "      <td>31</td>\n",
       "      <td>9.666667</td>\n",
       "      <td>63.5</td>\n",
       "      <td>152.0</td>\n",
       "      <td>8.3</td>\n",
       "      <td>4.80</td>\n",
       "      <td>281.666667</td>\n",
       "      <td>7.333333</td>\n",
       "      <td>99</td>\n",
       "    </tr>\n",
       "    <tr>\n",
       "      <th>1</th>\n",
       "      <td>3389.333333</td>\n",
       "      <td>30</td>\n",
       "      <td>10.666667</td>\n",
       "      <td>67.4</td>\n",
       "      <td>157.5</td>\n",
       "      <td>8.4</td>\n",
       "      <td>4.66</td>\n",
       "      <td>644.666667</td>\n",
       "      <td>8.666667</td>\n",
       "      <td>96</td>\n",
       "    </tr>\n",
       "    <tr>\n",
       "      <th>2</th>\n",
       "      <td>2577.000000</td>\n",
       "      <td>17</td>\n",
       "      <td>11.000000</td>\n",
       "      <td>57.1</td>\n",
       "      <td>133.3</td>\n",
       "      <td>7.8</td>\n",
       "      <td>4.81</td>\n",
       "      <td>71.000000</td>\n",
       "      <td>2.000000</td>\n",
       "      <td>92</td>\n",
       "    </tr>\n",
       "    <tr>\n",
       "      <th>3</th>\n",
       "      <td>3853.333333</td>\n",
       "      <td>30</td>\n",
       "      <td>14.666667</td>\n",
       "      <td>61.1</td>\n",
       "      <td>132.5</td>\n",
       "      <td>7.0</td>\n",
       "      <td>4.83</td>\n",
       "      <td>297.000000</td>\n",
       "      <td>0.666667</td>\n",
       "      <td>98</td>\n",
       "    </tr>\n",
       "    <tr>\n",
       "      <th>4</th>\n",
       "      <td>3014.333333</td>\n",
       "      <td>23</td>\n",
       "      <td>9.000000</td>\n",
       "      <td>57.0</td>\n",
       "      <td>142.9</td>\n",
       "      <td>8.3</td>\n",
       "      <td>0.00</td>\n",
       "      <td>1377.333333</td>\n",
       "      <td>16.666667</td>\n",
       "      <td>97</td>\n",
       "    </tr>\n",
       "  </tbody>\n",
       "</table>\n",
       "</div>"
      ],
      "text/plain": [
       "   Average Yards  Average TDs  Average INTs  Completion %  Passer Rating  \\\n",
       "0    3750.666667           31      9.666667          63.5          152.0   \n",
       "1    3389.333333           30     10.666667          67.4          157.5   \n",
       "2    2577.000000           17     11.000000          57.1          133.3   \n",
       "3    3853.333333           30     14.666667          61.1          132.5   \n",
       "4    3014.333333           23      9.000000          57.0          142.9   \n",
       "\n",
       "   Yards per Attempt  40 Time  Average Rush Yards  Average Rush TDs  Result  \n",
       "0                8.3     4.80          281.666667          7.333333      99  \n",
       "1                8.4     4.66          644.666667          8.666667      96  \n",
       "2                7.8     4.81           71.000000          2.000000      92  \n",
       "3                7.0     4.83          297.000000          0.666667      98  \n",
       "4                8.3     0.00         1377.333333         16.666667      97  "
      ]
     },
     "execution_count": 2,
     "metadata": {},
     "output_type": "execute_result"
    }
   ],
   "source": [
    "train = pd.read_excel('Draft Quarterbacks Training Data.xlsx', encoding = \"iso-8859-1\")\n",
    "test = pd.read_excel('Draft Quarterbacks Testing Data.xlsx', encoding = \"iso-8859-1\")\n",
    "train.head()"
   ]
  },
  {
   "cell_type": "code",
   "execution_count": 3,
   "metadata": {},
   "outputs": [],
   "source": [
    "#X_train = train.drop(\"Result\", axis=1)\n",
    "#Y_train = train[\"Result\"]\n",
    "#X_train.shape, Y_train.shape, test.shape\n",
    "\n",
    "y = train[\"Result\"]\n",
    "features = [\"Average Yards\", \"Average TDs\", \"Average INTs\", \"Completion %\", \"Passer Rating\", \"Yards per Attempt\", \"40 Time\", \"Average Rush Yards\", \"Average Rush TDs\"]\n",
    "X = pd.get_dummies(train[features])\n",
    "X_test = pd.get_dummies(test[features])"
   ]
  },
  {
   "cell_type": "code",
   "execution_count": 36,
   "metadata": {},
   "outputs": [
    {
     "name": "stdout",
     "output_type": "stream",
     "text": [
      "[99 96 99 92 96]\n"
     ]
    }
   ],
   "source": [
    "random_forest = RandomForestClassifier(n_estimators=100)\n",
    "\n",
    "random_forest.fit(X, y)\n",
    "\n",
    "Y_pred = random_forest.predict(X_test)\n",
    "print(Y_pred)"
   ]
  },
  {
   "cell_type": "code",
   "execution_count": null,
   "metadata": {},
   "outputs": [],
   "source": []
  }
 ],
 "metadata": {
  "kernelspec": {
   "display_name": "Python 3",
   "language": "python",
   "name": "python3"
  },
  "language_info": {
   "codemirror_mode": {
    "name": "ipython",
    "version": 3
   },
   "file_extension": ".py",
   "mimetype": "text/x-python",
   "name": "python",
   "nbconvert_exporter": "python",
   "pygments_lexer": "ipython3",
   "version": "3.7.3"
  }
 },
 "nbformat": 4,
 "nbformat_minor": 2
}
