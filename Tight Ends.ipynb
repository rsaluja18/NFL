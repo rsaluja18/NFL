{
 "cells": [
  {
   "cell_type": "code",
   "execution_count": 2,
   "metadata": {},
   "outputs": [],
   "source": [
    "import pandas as pd\n",
    "import math as m\n",
    "import numpy as np\n",
    "import scipy as sp\n",
    "import matplotlib as plt\n",
    "import matplotlib.pyplot as plt\n",
    "import seaborn as sns \n",
    "import statsmodels.api as sm\n",
    "import statsmodels.formula.api as smf\n",
    "from sklearn.linear_model import LinearRegression\n",
    "from sklearn import tree\n",
    "from sklearn.datasets import load_iris\n",
    "import random as rnd\n",
    "%matplotlib inline\n",
    "from sklearn.linear_model import LogisticRegression\n",
    "from sklearn.svm import SVC, LinearSVC\n",
    "from sklearn.ensemble import RandomForestClassifier\n",
    "from sklearn.neighbors import KNeighborsClassifier\n",
    "from sklearn.naive_bayes import GaussianNB\n",
    "from sklearn.linear_model import Perceptron\n",
    "from sklearn.linear_model import SGDClassifier\n",
    "from sklearn.tree import DecisionTreeClassifier"
   ]
  },
  {
   "cell_type": "code",
   "execution_count": 3,
   "metadata": {},
   "outputs": [
    {
     "data": {
      "text/html": [
       "<div>\n",
       "<style scoped>\n",
       "    .dataframe tbody tr th:only-of-type {\n",
       "        vertical-align: middle;\n",
       "    }\n",
       "\n",
       "    .dataframe tbody tr th {\n",
       "        vertical-align: top;\n",
       "    }\n",
       "\n",
       "    .dataframe thead th {\n",
       "        text-align: right;\n",
       "    }\n",
       "</style>\n",
       "<table border=\"1\" class=\"dataframe\">\n",
       "  <thead>\n",
       "    <tr style=\"text-align: right;\">\n",
       "      <th></th>\n",
       "      <th>Average Yards</th>\n",
       "      <th>Average Catches</th>\n",
       "      <th>Average TDs</th>\n",
       "      <th>Yards per Reception</th>\n",
       "      <th>40 Time</th>\n",
       "      <th>3-Cone Time</th>\n",
       "      <th>20 Yard Shuttle Time</th>\n",
       "      <th>Verticle Jump</th>\n",
       "      <th>Broad Jump</th>\n",
       "      <th>Bench Press</th>\n",
       "      <th>Height</th>\n",
       "      <th>Weight</th>\n",
       "      <th>Result</th>\n",
       "    </tr>\n",
       "  </thead>\n",
       "  <tbody>\n",
       "    <tr>\n",
       "      <th>0</th>\n",
       "      <td>898</td>\n",
       "      <td>69</td>\n",
       "      <td>6.000000</td>\n",
       "      <td>13.0</td>\n",
       "      <td>4.76</td>\n",
       "      <td>7.08</td>\n",
       "      <td>4.47</td>\n",
       "      <td>30.5</td>\n",
       "      <td>111</td>\n",
       "      <td>24</td>\n",
       "      <td>77</td>\n",
       "      <td>249</td>\n",
       "      <td>94</td>\n",
       "    </tr>\n",
       "    <tr>\n",
       "      <th>1</th>\n",
       "      <td>684</td>\n",
       "      <td>47</td>\n",
       "      <td>4.000000</td>\n",
       "      <td>14.3</td>\n",
       "      <td>4.42</td>\n",
       "      <td>6.92</td>\n",
       "      <td>4.23</td>\n",
       "      <td>36.0</td>\n",
       "      <td>125</td>\n",
       "      <td>19</td>\n",
       "      <td>75</td>\n",
       "      <td>234</td>\n",
       "      <td>85</td>\n",
       "    </tr>\n",
       "    <tr>\n",
       "      <th>2</th>\n",
       "      <td>344</td>\n",
       "      <td>30</td>\n",
       "      <td>2.666667</td>\n",
       "      <td>11.5</td>\n",
       "      <td>4.83</td>\n",
       "      <td>0.00</td>\n",
       "      <td>4.37</td>\n",
       "      <td>34.5</td>\n",
       "      <td>113</td>\n",
       "      <td>0</td>\n",
       "      <td>78</td>\n",
       "      <td>259</td>\n",
       "      <td>80</td>\n",
       "    </tr>\n",
       "  </tbody>\n",
       "</table>\n",
       "</div>"
      ],
      "text/plain": [
       "   Average Yards  Average Catches  Average TDs  Yards per Reception  40 Time  \\\n",
       "0            898               69     6.000000                 13.0     4.76   \n",
       "1            684               47     4.000000                 14.3     4.42   \n",
       "2            344               30     2.666667                 11.5     4.83   \n",
       "\n",
       "   3-Cone Time  20 Yard Shuttle Time  Verticle Jump  Broad Jump  Bench Press  \\\n",
       "0         7.08                  4.47           30.5         111           24   \n",
       "1         6.92                  4.23           36.0         125           19   \n",
       "2         0.00                  4.37           34.5         113            0   \n",
       "\n",
       "   Height  Weight  Result  \n",
       "0      77     249      94  \n",
       "1      75     234      85  \n",
       "2      78     259      80  "
      ]
     },
     "execution_count": 3,
     "metadata": {},
     "output_type": "execute_result"
    }
   ],
   "source": [
    "train = pd.read_excel('Draft Tight Ends Training Data.xlsx', encoding = \"iso-8859-1\")\n",
    "test = pd.read_excel('Draft Tight Ends Testing Data.xlsx', encoding = \"iso-8859-1\")\n",
    "train.head()"
   ]
  },
  {
   "cell_type": "code",
   "execution_count": 4,
   "metadata": {},
   "outputs": [],
   "source": [
    "#X_train = train.drop(\"Result\", axis=1)\n",
    "#Y_train = train[\"Result\"]\n",
    "#X_train.shape, Y_train.shape, test.shape\n",
    "\n",
    "y = train[\"Result\"]\n",
    "features = [\"Average Yards\", \"Average Catches\", \"Average TDs\", \"Yards per Reception\", \"40 Time\", \"3-Cone Time\", \"20 Yard Shuttle Time\", \"Verticle Jump\", \"Broad Jump\", \"Bench Press\", \"Height\", \"Weight\"]\n",
    "X = pd.get_dummies(train[features])\n",
    "X_test = pd.get_dummies(test[features])"
   ]
  },
  {
   "cell_type": "code",
   "execution_count": 16,
   "metadata": {},
   "outputs": [
    {
     "name": "stdout",
     "output_type": "stream",
     "text": [
      "[80]\n"
     ]
    }
   ],
   "source": [
    "random_forest = RandomForestClassifier(n_estimators=100)\n",
    "\n",
    "random_forest.fit(X, y)\n",
    "\n",
    "Y_pred = random_forest.predict(X_test)\n",
    "print(Y_pred)"
   ]
  },
  {
   "cell_type": "code",
   "execution_count": null,
   "metadata": {},
   "outputs": [],
   "source": []
  }
 ],
 "metadata": {
  "kernelspec": {
   "display_name": "Python 3",
   "language": "python",
   "name": "python3"
  },
  "language_info": {
   "codemirror_mode": {
    "name": "ipython",
    "version": 3
   },
   "file_extension": ".py",
   "mimetype": "text/x-python",
   "name": "python",
   "nbconvert_exporter": "python",
   "pygments_lexer": "ipython3",
   "version": "3.7.3"
  }
 },
 "nbformat": 4,
 "nbformat_minor": 2
}
